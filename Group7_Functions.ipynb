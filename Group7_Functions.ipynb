{
  "nbformat": 4,
  "nbformat_minor": 0,
  "metadata": {
    "colab": {
      "provenance": []
    },
    "kernelspec": {
      "name": "python3",
      "display_name": "Python 3"
    },
    "language_info": {
      "name": "python"
    }
  },
  "cells": [
    {
      "cell_type": "code",
      "execution_count": null,
      "metadata": {
        "id": "TMJO8P3EzvM3"
      },
      "outputs": [],
      "source": [
        "#Function - Its a block of code which executes when we call it.\n",
        "def example():\n",
        "  print(\"Hi Everyone\")"
      ]
    },
    {
      "cell_type": "code",
      "source": [
        "example()"
      ],
      "metadata": {
        "colab": {
          "base_uri": "https://localhost:8080/"
        },
        "id": "nTblftHoz_St",
        "outputId": "9599454d-3e90-42c6-8609-29adf2342e21"
      },
      "execution_count": null,
      "outputs": [
        {
          "output_type": "stream",
          "name": "stdout",
          "text": [
            "Hi Everyone\n"
          ]
        }
      ]
    },
    {
      "cell_type": "code",
      "source": [
        "def dept(fname):\n",
        "  print(fname + \" helps to generate revenue\")\n",
        "\n",
        "dept(\"HR\")"
      ],
      "metadata": {
        "colab": {
          "base_uri": "https://localhost:8080/"
        },
        "id": "GngN4xBw0KP-",
        "outputId": "38ad3516-52d9-4b73-d503-1317a8343fa1"
      },
      "execution_count": null,
      "outputs": [
        {
          "output_type": "stream",
          "name": "stdout",
          "text": [
            "HR helps to generate revenue\n"
          ]
        }
      ]
    },
    {
      "cell_type": "code",
      "source": [
        "def example_1(string):\n",
        "  return len(string)\n",
        "print(\"length of string is\",example_1(\"Python Programming\"))"
      ],
      "metadata": {
        "colab": {
          "base_uri": "https://localhost:8080/"
        },
        "id": "XM87krqT0VGO",
        "outputId": "d62b8448-3779-4882-e505-47ab616762b6"
      },
      "execution_count": null,
      "outputs": [
        {
          "output_type": "stream",
          "name": "stdout",
          "text": [
            "length of string is 18\n"
          ]
        }
      ]
    },
    {
      "cell_type": "code",
      "source": [
        "text = \"This is function topic in python\"\n",
        "def anytext(any):\n",
        "  '''\n",
        "  input:\n",
        "    anytext-str\n",
        "  output:\n",
        "    anytext-str\n",
        "  '''\n",
        "  output = text +any.upper()\n",
        "  return output"
      ],
      "metadata": {
        "id": "zACsRxWW0end"
      },
      "execution_count": null,
      "outputs": []
    },
    {
      "cell_type": "code",
      "source": [
        "anytext('Hello Everyone')"
      ],
      "metadata": {
        "colab": {
          "base_uri": "https://localhost:8080/",
          "height": 36
        },
        "id": "IMUV35Pf0-Z2",
        "outputId": "18feb197-dad6-4ffc-c33f-60de4aabee1a"
      },
      "execution_count": null,
      "outputs": [
        {
          "output_type": "execute_result",
          "data": {
            "text/plain": [
              "'This is function topic in pythonHELLO EVERYONE'"
            ],
            "application/vnd.google.colaboratory.intrinsic+json": {
              "type": "string"
            }
          },
          "metadata": {},
          "execution_count": 7
        }
      ]
    },
    {
      "cell_type": "code",
      "source": [
        "def multiply(*numbers):\n",
        "  total = 1\n",
        "  for number in numbers:\n",
        "    total *= number\n",
        "  return total"
      ],
      "metadata": {
        "id": "giPwGCH91bMm"
      },
      "execution_count": null,
      "outputs": []
    },
    {
      "cell_type": "code",
      "source": [
        "multiply(2,3,4,1,3)"
      ],
      "metadata": {
        "colab": {
          "base_uri": "https://localhost:8080/"
        },
        "id": "fMRnT2zB14lF",
        "outputId": "45a33740-f838-4663-a4cb-7072e0325873"
      },
      "execution_count": null,
      "outputs": [
        {
          "output_type": "execute_result",
          "data": {
            "text/plain": [
              "72"
            ]
          },
          "metadata": {},
          "execution_count": 9
        }
      ]
    },
    {
      "cell_type": "code",
      "source": [
        "def emp_1(** emp):\n",
        "  print(emp)"
      ],
      "metadata": {
        "id": "KxdyvCwc179H"
      },
      "execution_count": null,
      "outputs": []
    },
    {
      "cell_type": "code",
      "source": [
        "emp_1(id=1,name=\"Steve\",age=26)"
      ],
      "metadata": {
        "colab": {
          "base_uri": "https://localhost:8080/"
        },
        "id": "pLgvRW1V2A0p",
        "outputId": "4b07a5e0-6b1c-42b3-f2e8-8461c6b103f6"
      },
      "execution_count": null,
      "outputs": [
        {
          "output_type": "stream",
          "name": "stdout",
          "text": [
            "{'id': 1, 'name': 'Steve', 'age': 26}\n"
          ]
        }
      ]
    },
    {
      "cell_type": "code",
      "source": [
        "#task - define a function for employees with string \"emp works with\", id, name and dept\n",
        "def Emp(** E):\n",
        "  print(\"Employee works with \",E)"
      ],
      "metadata": {
        "id": "WbTcmCBi2DM7"
      },
      "execution_count": null,
      "outputs": []
    },
    {
      "cell_type": "code",
      "source": [
        "Emp(id=30,name=\"Mark\",dept=\"Engineering\")"
      ],
      "metadata": {
        "colab": {
          "base_uri": "https://localhost:8080/"
        },
        "id": "WKHKvYHH2PY-",
        "outputId": "9bae018a-7bc5-4b7d-fca0-c8d2e2cb8310"
      },
      "execution_count": null,
      "outputs": [
        {
          "output_type": "stream",
          "name": "stdout",
          "text": [
            "Employee works with  {'id': 30, 'name': 'Mark', 'dept': 'Engineering'}\n"
          ]
        }
      ]
    },
    {
      "cell_type": "code",
      "source": [
        "def employee_details(emp_id, name, dept):\n",
        "  return print(name,\"(\",emp_id,\")\",\"works in\",dept,\"department.\")\n",
        "employee_details(30,\"Mark\",\"Sales\")"
      ],
      "metadata": {
        "id": "2kiP9byr2SJS",
        "outputId": "dedaf050-34bf-429f-b712-0f7549be3ff7",
        "colab": {
          "base_uri": "https://localhost:8080/"
        }
      },
      "execution_count": null,
      "outputs": [
        {
          "output_type": "stream",
          "name": "stdout",
          "text": [
            "Mark ( 30 ) works in Sales department.\n"
          ]
        }
      ]
    }
  ]
}