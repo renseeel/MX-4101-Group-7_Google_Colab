{
  "nbformat": 4,
  "nbformat_minor": 0,
  "metadata": {
    "colab": {
      "provenance": [],
      "toc_visible": true
    },
    "kernelspec": {
      "name": "python3",
      "display_name": "Python 3"
    },
    "language_info": {
      "name": "python"
    }
  },
  "cells": [
    {
      "cell_type": "markdown",
      "source": [
        "# Conditional Statement"
      ],
      "metadata": {
        "id": "6zzKSrcsyGVS"
      }
    },
    {
      "cell_type": "markdown",
      "source": [
        "Conditional Statements:\n",
        "* If Statement\n",
        "* If else\n",
        "* Nested If"
      ],
      "metadata": {
        "id": "14vAl7DMzOvV"
      }
    },
    {
      "cell_type": "code",
      "source": [
        "# If Statement\n",
        "# if condition:\n",
        "  #block of code\n",
        "\n",
        "emp = 101\n",
        "if emp > 100:\n",
        "  print(\"emp belongs to sales dept\")"
      ],
      "metadata": {
        "colab": {
          "base_uri": "https://localhost:8080/"
        },
        "id": "Bzl5s2grzFwu",
        "outputId": "7a6bb145-67cd-4ca5-efb4-0fc9393de353"
      },
      "execution_count": null,
      "outputs": [
        {
          "output_type": "stream",
          "name": "stdout",
          "text": [
            "emp belongs to sales dept\n"
          ]
        }
      ]
    },
    {
      "cell_type": "code",
      "source": [
        "employee =30000\n",
        "if employee < 40000:\n",
        "  print(\"employee belongs to grade B\")"
      ],
      "metadata": {
        "colab": {
          "base_uri": "https://localhost:8080/"
        },
        "id": "lgOfYF5_57OR",
        "outputId": "67c89945-4dd6-4490-b853-24ed8436448c"
      },
      "execution_count": null,
      "outputs": [
        {
          "output_type": "stream",
          "name": "stdout",
          "text": [
            "employee belongs to grade B\n"
          ]
        }
      ]
    },
    {
      "cell_type": "code",
      "source": [
        "#Emp belongs to id 101 takes leave on Monday\n",
        "Emp = 101\n",
        "if Emp == 101:\n",
        "  print(\"employee belongs to id 101 takes leave on Monday\")"
      ],
      "metadata": {
        "colab": {
          "base_uri": "https://localhost:8080/"
        },
        "id": "Lhn9LO4K59s8",
        "outputId": "b9d5ce7d-67e2-469e-aada-b3b6c86594d2"
      },
      "execution_count": null,
      "outputs": [
        {
          "output_type": "stream",
          "name": "stdout",
          "text": [
            "employee belongs to id 101 takes leave on Monday\n"
          ]
        }
      ]
    },
    {
      "cell_type": "code",
      "source": [
        "Emp = 101\n",
        "if Emp <101:\n",
        "  print(\"employee belongs to id 101 takes leave on Monday\")"
      ],
      "metadata": {
        "id": "n-3upher5_rQ"
      },
      "execution_count": null,
      "outputs": []
    },
    {
      "cell_type": "code",
      "source": [
        "# if else statement\n",
        "# if <expression>:\n",
        "  #<condition>\n",
        "#else:\n",
        "  #<statement>\n",
        "\n",
        "branch = \"sales\"\n",
        "if branch == \"HR\":\n",
        "  print(\"Employee is from different dept\")\n",
        "else:\n",
        "  print(\"Employee belongs to same dept\")"
      ],
      "metadata": {
        "colab": {
          "base_uri": "https://localhost:8080/"
        },
        "id": "8fyI8O0y6C6P",
        "outputId": "9d503306-a99c-454a-8638-d79eee151534"
      },
      "execution_count": null,
      "outputs": [
        {
          "output_type": "stream",
          "name": "stdout",
          "text": [
            "Employee belongs to same dept\n"
          ]
        }
      ]
    },
    {
      "cell_type": "code",
      "source": [
        "# age = 30 then consider as senior or consider as a fresher\n",
        "age = 30\n",
        "\n",
        "if age == 30:\n",
        "  print(\"Senior\")\n",
        "else:\n",
        "  print(\"Fresher\")"
      ],
      "metadata": {
        "colab": {
          "base_uri": "https://localhost:8080/"
        },
        "id": "DBeNhdTy6FF3",
        "outputId": "00b95990-951f-4ebe-fa16-fb612e798463"
      },
      "execution_count": null,
      "outputs": [
        {
          "output_type": "stream",
          "name": "stdout",
          "text": [
            "Senior\n"
          ]
        }
      ]
    },
    {
      "cell_type": "code",
      "source": [
        "# if-elif\n",
        "color = \"White\"\n",
        "if color == \"Red\":\n",
        "  print(\"color is Red\")\n",
        "elif color == \"Blue\":\n",
        "  print(\"color is Blue\")\n",
        "elif color == \"Black\":\n",
        "  print(\"color is Black\")\n",
        "else:\n",
        "  print(\"color is not present\")"
      ],
      "metadata": {
        "colab": {
          "base_uri": "https://localhost:8080/"
        },
        "id": "Ke4eMCRK6IBF",
        "outputId": "29f7d32d-9158-4398-898e-90fe4379858e"
      },
      "execution_count": null,
      "outputs": [
        {
          "output_type": "stream",
          "name": "stdout",
          "text": [
            "color is not present\n"
          ]
        }
      ]
    },
    {
      "cell_type": "code",
      "source": [
        "# for loop\n",
        "\n",
        "names = [\"John\",\"Maria\",\"Daniel\"]\n",
        "for name in names:\n",
        "  print(name)\n",
        "  if name == \"Maria\":\n",
        "    break"
      ],
      "metadata": {
        "colab": {
          "base_uri": "https://localhost:8080/"
        },
        "id": "FiJnC4_P6LIV",
        "outputId": "e47938c8-40c1-46ec-962e-a427d5074651"
      },
      "execution_count": null,
      "outputs": [
        {
          "output_type": "stream",
          "name": "stdout",
          "text": [
            "John\n",
            "Maria\n"
          ]
        }
      ]
    },
    {
      "cell_type": "code",
      "source": [
        "names = [\"John\",\"Maria\",\"Daniel\"]\n",
        "for name in names:\n",
        "  if name == \"Maria\":\n",
        "    continue\n",
        "  print(names)"
      ],
      "metadata": {
        "colab": {
          "base_uri": "https://localhost:8080/"
        },
        "id": "SlQuDWvh6NbA",
        "outputId": "18471ee0-fdd5-45cc-df59-bcf0290c5efc"
      },
      "execution_count": null,
      "outputs": [
        {
          "output_type": "stream",
          "name": "stdout",
          "text": [
            "['John', 'Maria', 'Daniel']\n",
            "['John', 'Maria', 'Daniel']\n"
          ]
        }
      ]
    }
  ]
}